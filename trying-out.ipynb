{
 "cells": [
  {
   "cell_type": "code",
   "execution_count": 1,
   "id": "fe2ba1a5",
   "metadata": {
    "_cell_guid": "b1076dfc-b9ad-4769-8c92-a6c4dae69d19",
    "_uuid": "8f2839f25d086af736a60e9eeb907d3b93b6e0e5",
    "execution": {
     "iopub.execute_input": "2022-05-15T15:07:46.197625Z",
     "iopub.status.busy": "2022-05-15T15:07:46.196874Z",
     "iopub.status.idle": "2022-05-15T15:07:46.214231Z",
     "shell.execute_reply": "2022-05-15T15:07:46.213482Z"
    },
    "papermill": {
     "duration": 0.039094,
     "end_time": "2022-05-15T15:07:46.216858",
     "exception": false,
     "start_time": "2022-05-15T15:07:46.177764",
     "status": "completed"
    },
    "tags": []
   },
   "outputs": [
    {
     "name": "stdout",
     "output_type": "stream",
     "text": [
      "/kaggle/input/house-prices-advanced-regression-techniques/sample_submission.csv\n",
      "/kaggle/input/house-prices-advanced-regression-techniques/data_description.txt\n",
      "/kaggle/input/house-prices-advanced-regression-techniques/train.csv\n",
      "/kaggle/input/house-prices-advanced-regression-techniques/test.csv\n"
     ]
    }
   ],
   "source": [
    "# This Python 3 environment comes with many helpful analytics libraries installed\n",
    "# It is defined by the kaggle/python Docker image: https://github.com/kaggle/docker-python\n",
    "# For example, here's several helpful packages to load\n",
    "\n",
    "import numpy as np # linear algebra\n",
    "import pandas as pd # data processing, CSV file I/O (e.g. pd.read_csv)\n",
    "\n",
    "# Input data files are available in the read-only \"../input/\" directory\n",
    "# For example, running this (by clicking run or pressing Shift+Enter) will list all files under the input directory\n",
    "\n",
    "import os\n",
    "for dirname, _, filenames in os.walk('/kaggle/input'):\n",
    "    for filename in filenames:\n",
    "        print(os.path.join(dirname, filename))\n",
    "\n",
    "# You can write up to 20GB to the current directory (/kaggle/working/) that gets preserved as output when you create a version using \"Save & Run All\" \n",
    "# You can also write temporary files to /kaggle/temp/, but they won't be saved outside of the current session"
   ]
  },
  {
   "cell_type": "code",
   "execution_count": 2,
   "id": "a49e118e",
   "metadata": {
    "execution": {
     "iopub.execute_input": "2022-05-15T15:07:46.254970Z",
     "iopub.status.busy": "2022-05-15T15:07:46.254460Z",
     "iopub.status.idle": "2022-05-15T15:07:47.437395Z",
     "shell.execute_reply": "2022-05-15T15:07:47.436551Z"
    },
    "papermill": {
     "duration": 1.204942,
     "end_time": "2022-05-15T15:07:47.439860",
     "exception": false,
     "start_time": "2022-05-15T15:07:46.234918",
     "status": "completed"
    },
    "tags": []
   },
   "outputs": [],
   "source": [
    "import pandas as pd\n",
    "import numpy as np\n",
    "import seaborn as sns\n",
    "import matplotlib\n",
    "\n",
    "import matplotlib.pyplot as plt\n",
    "from scipy.stats import skew\n",
    "from scipy.stats.stats import pearsonr"
   ]
  },
  {
   "cell_type": "code",
   "execution_count": 3,
   "id": "a5e0bd4f",
   "metadata": {
    "execution": {
     "iopub.execute_input": "2022-05-15T15:07:47.474963Z",
     "iopub.status.busy": "2022-05-15T15:07:47.474220Z",
     "iopub.status.idle": "2022-05-15T15:07:47.584143Z",
     "shell.execute_reply": "2022-05-15T15:07:47.583128Z"
    },
    "papermill": {
     "duration": 0.129922,
     "end_time": "2022-05-15T15:07:47.586401",
     "exception": false,
     "start_time": "2022-05-15T15:07:47.456479",
     "status": "completed"
    },
    "tags": []
   },
   "outputs": [
    {
     "data": {
      "text/html": [
       "<div>\n",
       "<style scoped>\n",
       "    .dataframe tbody tr th:only-of-type {\n",
       "        vertical-align: middle;\n",
       "    }\n",
       "\n",
       "    .dataframe tbody tr th {\n",
       "        vertical-align: top;\n",
       "    }\n",
       "\n",
       "    .dataframe thead th {\n",
       "        text-align: right;\n",
       "    }\n",
       "</style>\n",
       "<table border=\"1\" class=\"dataframe\">\n",
       "  <thead>\n",
       "    <tr style=\"text-align: right;\">\n",
       "      <th></th>\n",
       "      <th>Id</th>\n",
       "      <th>MSSubClass</th>\n",
       "      <th>MSZoning</th>\n",
       "      <th>LotFrontage</th>\n",
       "      <th>LotArea</th>\n",
       "      <th>Street</th>\n",
       "      <th>Alley</th>\n",
       "      <th>LotShape</th>\n",
       "      <th>LandContour</th>\n",
       "      <th>Utilities</th>\n",
       "      <th>...</th>\n",
       "      <th>PoolArea</th>\n",
       "      <th>PoolQC</th>\n",
       "      <th>Fence</th>\n",
       "      <th>MiscFeature</th>\n",
       "      <th>MiscVal</th>\n",
       "      <th>MoSold</th>\n",
       "      <th>YrSold</th>\n",
       "      <th>SaleType</th>\n",
       "      <th>SaleCondition</th>\n",
       "      <th>SalePrice</th>\n",
       "    </tr>\n",
       "  </thead>\n",
       "  <tbody>\n",
       "    <tr>\n",
       "      <th>0</th>\n",
       "      <td>1</td>\n",
       "      <td>60</td>\n",
       "      <td>RL</td>\n",
       "      <td>65.0</td>\n",
       "      <td>8450</td>\n",
       "      <td>Pave</td>\n",
       "      <td>NaN</td>\n",
       "      <td>Reg</td>\n",
       "      <td>Lvl</td>\n",
       "      <td>AllPub</td>\n",
       "      <td>...</td>\n",
       "      <td>0</td>\n",
       "      <td>NaN</td>\n",
       "      <td>NaN</td>\n",
       "      <td>NaN</td>\n",
       "      <td>0</td>\n",
       "      <td>2</td>\n",
       "      <td>2008</td>\n",
       "      <td>WD</td>\n",
       "      <td>Normal</td>\n",
       "      <td>208500</td>\n",
       "    </tr>\n",
       "    <tr>\n",
       "      <th>1</th>\n",
       "      <td>2</td>\n",
       "      <td>20</td>\n",
       "      <td>RL</td>\n",
       "      <td>80.0</td>\n",
       "      <td>9600</td>\n",
       "      <td>Pave</td>\n",
       "      <td>NaN</td>\n",
       "      <td>Reg</td>\n",
       "      <td>Lvl</td>\n",
       "      <td>AllPub</td>\n",
       "      <td>...</td>\n",
       "      <td>0</td>\n",
       "      <td>NaN</td>\n",
       "      <td>NaN</td>\n",
       "      <td>NaN</td>\n",
       "      <td>0</td>\n",
       "      <td>5</td>\n",
       "      <td>2007</td>\n",
       "      <td>WD</td>\n",
       "      <td>Normal</td>\n",
       "      <td>181500</td>\n",
       "    </tr>\n",
       "    <tr>\n",
       "      <th>2</th>\n",
       "      <td>3</td>\n",
       "      <td>60</td>\n",
       "      <td>RL</td>\n",
       "      <td>68.0</td>\n",
       "      <td>11250</td>\n",
       "      <td>Pave</td>\n",
       "      <td>NaN</td>\n",
       "      <td>IR1</td>\n",
       "      <td>Lvl</td>\n",
       "      <td>AllPub</td>\n",
       "      <td>...</td>\n",
       "      <td>0</td>\n",
       "      <td>NaN</td>\n",
       "      <td>NaN</td>\n",
       "      <td>NaN</td>\n",
       "      <td>0</td>\n",
       "      <td>9</td>\n",
       "      <td>2008</td>\n",
       "      <td>WD</td>\n",
       "      <td>Normal</td>\n",
       "      <td>223500</td>\n",
       "    </tr>\n",
       "    <tr>\n",
       "      <th>3</th>\n",
       "      <td>4</td>\n",
       "      <td>70</td>\n",
       "      <td>RL</td>\n",
       "      <td>60.0</td>\n",
       "      <td>9550</td>\n",
       "      <td>Pave</td>\n",
       "      <td>NaN</td>\n",
       "      <td>IR1</td>\n",
       "      <td>Lvl</td>\n",
       "      <td>AllPub</td>\n",
       "      <td>...</td>\n",
       "      <td>0</td>\n",
       "      <td>NaN</td>\n",
       "      <td>NaN</td>\n",
       "      <td>NaN</td>\n",
       "      <td>0</td>\n",
       "      <td>2</td>\n",
       "      <td>2006</td>\n",
       "      <td>WD</td>\n",
       "      <td>Abnorml</td>\n",
       "      <td>140000</td>\n",
       "    </tr>\n",
       "    <tr>\n",
       "      <th>4</th>\n",
       "      <td>5</td>\n",
       "      <td>60</td>\n",
       "      <td>RL</td>\n",
       "      <td>84.0</td>\n",
       "      <td>14260</td>\n",
       "      <td>Pave</td>\n",
       "      <td>NaN</td>\n",
       "      <td>IR1</td>\n",
       "      <td>Lvl</td>\n",
       "      <td>AllPub</td>\n",
       "      <td>...</td>\n",
       "      <td>0</td>\n",
       "      <td>NaN</td>\n",
       "      <td>NaN</td>\n",
       "      <td>NaN</td>\n",
       "      <td>0</td>\n",
       "      <td>12</td>\n",
       "      <td>2008</td>\n",
       "      <td>WD</td>\n",
       "      <td>Normal</td>\n",
       "      <td>250000</td>\n",
       "    </tr>\n",
       "  </tbody>\n",
       "</table>\n",
       "<p>5 rows × 81 columns</p>\n",
       "</div>"
      ],
      "text/plain": [
       "   Id  MSSubClass MSZoning  LotFrontage  LotArea Street Alley LotShape  \\\n",
       "0   1          60       RL         65.0     8450   Pave   NaN      Reg   \n",
       "1   2          20       RL         80.0     9600   Pave   NaN      Reg   \n",
       "2   3          60       RL         68.0    11250   Pave   NaN      IR1   \n",
       "3   4          70       RL         60.0     9550   Pave   NaN      IR1   \n",
       "4   5          60       RL         84.0    14260   Pave   NaN      IR1   \n",
       "\n",
       "  LandContour Utilities  ... PoolArea PoolQC Fence MiscFeature MiscVal MoSold  \\\n",
       "0         Lvl    AllPub  ...        0    NaN   NaN         NaN       0      2   \n",
       "1         Lvl    AllPub  ...        0    NaN   NaN         NaN       0      5   \n",
       "2         Lvl    AllPub  ...        0    NaN   NaN         NaN       0      9   \n",
       "3         Lvl    AllPub  ...        0    NaN   NaN         NaN       0      2   \n",
       "4         Lvl    AllPub  ...        0    NaN   NaN         NaN       0     12   \n",
       "\n",
       "  YrSold  SaleType  SaleCondition  SalePrice  \n",
       "0   2008        WD         Normal     208500  \n",
       "1   2007        WD         Normal     181500  \n",
       "2   2008        WD         Normal     223500  \n",
       "3   2006        WD        Abnorml     140000  \n",
       "4   2008        WD         Normal     250000  \n",
       "\n",
       "[5 rows x 81 columns]"
      ]
     },
     "execution_count": 3,
     "metadata": {},
     "output_type": "execute_result"
    }
   ],
   "source": [
    "train = pd.read_csv('/kaggle/input/house-prices-advanced-regression-techniques/train.csv')\n",
    "test = pd.read_csv('/kaggle/input/house-prices-advanced-regression-techniques/test.csv')\n",
    "train.head()"
   ]
  },
  {
   "cell_type": "code",
   "execution_count": 4,
   "id": "971e7da5",
   "metadata": {
    "execution": {
     "iopub.execute_input": "2022-05-15T15:07:47.624556Z",
     "iopub.status.busy": "2022-05-15T15:07:47.624211Z",
     "iopub.status.idle": "2022-05-15T15:07:47.653369Z",
     "shell.execute_reply": "2022-05-15T15:07:47.652415Z"
    },
    "papermill": {
     "duration": 0.051947,
     "end_time": "2022-05-15T15:07:47.655847",
     "exception": false,
     "start_time": "2022-05-15T15:07:47.603900",
     "status": "completed"
    },
    "tags": []
   },
   "outputs": [],
   "source": [
    "all_data = pd.concat((train.loc[:,'MSSubClass':'SaleCondition'],\n",
    "                      test.loc[:,'MSSubClass':'SaleCondition']))"
   ]
  },
  {
   "cell_type": "code",
   "execution_count": 5,
   "id": "1fd2f46a",
   "metadata": {
    "execution": {
     "iopub.execute_input": "2022-05-15T15:07:47.693776Z",
     "iopub.status.busy": "2022-05-15T15:07:47.693465Z",
     "iopub.status.idle": "2022-05-15T15:07:47.993964Z",
     "shell.execute_reply": "2022-05-15T15:07:47.992825Z"
    },
    "papermill": {
     "duration": 0.323223,
     "end_time": "2022-05-15T15:07:47.996313",
     "exception": false,
     "start_time": "2022-05-15T15:07:47.673090",
     "status": "completed"
    },
    "tags": []
   },
   "outputs": [
    {
     "data": {
      "text/plain": [
       "array([[<AxesSubplot:title={'center':'price'}>]], dtype=object)"
      ]
     },
     "execution_count": 5,
     "metadata": {},
     "output_type": "execute_result"
    },
    {
     "data": {
      "image/png": "[encoded data removed]",
      "text/plain": [
       "<Figure size 864x432 with 1 Axes>"
      ]
     },
     "metadata": {
      "needs_background": "light"
     },
     "output_type": "display_data"
    }
   ],
   "source": [
    "matplotlib.rcParams['figure.figsize'] = (12.0, 6.0)\n",
    "prices = pd.DataFrame({\"price\":train[\"SalePrice\"]})\n",
    "prices.hist()"
   ]
  },
  {
   "cell_type": "code",
   "execution_count": 6,
   "id": "e017571e",
   "metadata": {
    "execution": {
     "iopub.execute_input": "2022-05-15T15:07:48.035582Z",
     "iopub.status.busy": "2022-05-15T15:07:48.035239Z",
     "iopub.status.idle": "2022-05-15T15:07:48.041840Z",
     "shell.execute_reply": "2022-05-15T15:07:48.040750Z"
    },
    "papermill": {
     "duration": 0.029078,
     "end_time": "2022-05-15T15:07:48.044550",
     "exception": false,
     "start_time": "2022-05-15T15:07:48.015472",
     "status": "completed"
    },
    "tags": []
   },
   "outputs": [],
   "source": [
    "train['SalePrice'] = np.log1p(train['SalePrice'])"
   ]
  },
  {
   "cell_type": "code",
   "execution_count": 7,
   "id": "2c1c80ea",
   "metadata": {
    "execution": {
     "iopub.execute_input": "2022-05-15T15:07:48.083634Z",
     "iopub.status.busy": "2022-05-15T15:07:48.083065Z",
     "iopub.status.idle": "2022-05-15T15:07:48.298033Z",
     "shell.execute_reply": "2022-05-15T15:07:48.297409Z"
    },
    "papermill": {
     "duration": 0.237005,
     "end_time": "2022-05-15T15:07:48.300175",
     "exception": false,
     "start_time": "2022-05-15T15:07:48.063170",
     "status": "completed"
    },
    "tags": []
   },
   "outputs": [
    {
     "data": {
      "text/plain": [
       "array([[<AxesSubplot:title={'center':'price'}>]], dtype=object)"
      ]
     },
     "execution_count": 7,
     "metadata": {},
     "output_type": "execute_result"
    },
    {
     "data": {
      "image/png": "[encoded data removed]",
      "text/plain": [
       "<Figure size 864x432 with 1 Axes>"
      ]
     },
     "metadata": {
      "needs_background": "light"
     },
     "output_type": "display_data"
    }
   ],
   "source": [
    "matplotlib.rcParams['figure.figsize'] = (12.0, 6.0)\n",
    "prices = pd.DataFrame({\"price\":train[\"SalePrice\"]})\n",
    "prices.hist()"
   ]
  },
  {
   "cell_type": "code",
   "execution_count": 8,
   "id": "e696aa28",
   "metadata": {
    "execution": {
     "iopub.execute_input": "2022-05-15T15:07:48.341611Z",
     "iopub.status.busy": "2022-05-15T15:07:48.341115Z",
     "iopub.status.idle": "2022-05-15T15:07:48.371534Z",
     "shell.execute_reply": "2022-05-15T15:07:48.370862Z"
    },
    "papermill": {
     "duration": 0.054093,
     "end_time": "2022-05-15T15:07:48.373890",
     "exception": false,
     "start_time": "2022-05-15T15:07:48.319797",
     "status": "completed"
    },
    "tags": []
   },
   "outputs": [],
   "source": [
    "num_features = all_data.dtypes[all_data.dtypes != 'object'].index\n",
    "\n",
    "skewed_features = train[num_features].apply(lambda x: skew(x.dropna()))\n",
    "skewed_features = skewed_features[skewed_features > 0.75]\n",
    "skewed_features = skewed_features.index\n",
    "\n",
    "all_data[skewed_features] = np.log1p(all_data[skewed_features])"
   ]
  },
  {
   "cell_type": "code",
   "execution_count": 9,
   "id": "2ce07daa",
   "metadata": {
    "execution": {
     "iopub.execute_input": "2022-05-15T15:07:48.415685Z",
     "iopub.status.busy": "2022-05-15T15:07:48.415197Z",
     "iopub.status.idle": "2022-05-15T15:07:48.445145Z",
     "shell.execute_reply": "2022-05-15T15:07:48.444427Z"
    },
    "papermill": {
     "duration": 0.052995,
     "end_time": "2022-05-15T15:07:48.447143",
     "exception": false,
     "start_time": "2022-05-15T15:07:48.394148",
     "status": "completed"
    },
    "tags": []
   },
   "outputs": [
    {
     "data": {
      "text/html": [
       "<div>\n",
       "<style scoped>\n",
       "    .dataframe tbody tr th:only-of-type {\n",
       "        vertical-align: middle;\n",
       "    }\n",
       "\n",
       "    .dataframe tbody tr th {\n",
       "        vertical-align: top;\n",
       "    }\n",
       "\n",
       "    .dataframe thead th {\n",
       "        text-align: right;\n",
       "    }\n",
       "</style>\n",
       "<table border=\"1\" class=\"dataframe\">\n",
       "  <thead>\n",
       "    <tr style=\"text-align: right;\">\n",
       "      <th></th>\n",
       "      <th>Missing Data</th>\n",
       "    </tr>\n",
       "  </thead>\n",
       "  <tbody>\n",
       "    <tr>\n",
       "      <th>PoolQC</th>\n",
       "      <td>2909</td>\n",
       "    </tr>\n",
       "    <tr>\n",
       "      <th>MiscFeature</th>\n",
       "      <td>2814</td>\n",
       "    </tr>\n",
       "    <tr>\n",
       "      <th>Alley</th>\n",
       "      <td>2721</td>\n",
       "    </tr>\n",
       "    <tr>\n",
       "      <th>Fence</th>\n",
       "      <td>2348</td>\n",
       "    </tr>\n",
       "    <tr>\n",
       "      <th>FireplaceQu</th>\n",
       "      <td>1420</td>\n",
       "    </tr>\n",
       "    <tr>\n",
       "      <th>LotFrontage</th>\n",
       "      <td>486</td>\n",
       "    </tr>\n",
       "    <tr>\n",
       "      <th>GarageFinish</th>\n",
       "      <td>159</td>\n",
       "    </tr>\n",
       "    <tr>\n",
       "      <th>GarageQual</th>\n",
       "      <td>159</td>\n",
       "    </tr>\n",
       "    <tr>\n",
       "      <th>GarageCond</th>\n",
       "      <td>159</td>\n",
       "    </tr>\n",
       "    <tr>\n",
       "      <th>GarageYrBlt</th>\n",
       "      <td>159</td>\n",
       "    </tr>\n",
       "    <tr>\n",
       "      <th>GarageType</th>\n",
       "      <td>157</td>\n",
       "    </tr>\n",
       "    <tr>\n",
       "      <th>BsmtExposure</th>\n",
       "      <td>82</td>\n",
       "    </tr>\n",
       "    <tr>\n",
       "      <th>BsmtCond</th>\n",
       "      <td>82</td>\n",
       "    </tr>\n",
       "    <tr>\n",
       "      <th>BsmtQual</th>\n",
       "      <td>81</td>\n",
       "    </tr>\n",
       "    <tr>\n",
       "      <th>BsmtFinType2</th>\n",
       "      <td>80</td>\n",
       "    </tr>\n",
       "    <tr>\n",
       "      <th>BsmtFinType1</th>\n",
       "      <td>79</td>\n",
       "    </tr>\n",
       "    <tr>\n",
       "      <th>MasVnrType</th>\n",
       "      <td>24</td>\n",
       "    </tr>\n",
       "    <tr>\n",
       "      <th>MasVnrArea</th>\n",
       "      <td>23</td>\n",
       "    </tr>\n",
       "    <tr>\n",
       "      <th>MSZoning</th>\n",
       "      <td>4</td>\n",
       "    </tr>\n",
       "    <tr>\n",
       "      <th>BsmtFullBath</th>\n",
       "      <td>2</td>\n",
       "    </tr>\n",
       "    <tr>\n",
       "      <th>BsmtHalfBath</th>\n",
       "      <td>2</td>\n",
       "    </tr>\n",
       "    <tr>\n",
       "      <th>Functional</th>\n",
       "      <td>2</td>\n",
       "    </tr>\n",
       "    <tr>\n",
       "      <th>Utilities</th>\n",
       "      <td>2</td>\n",
       "    </tr>\n",
       "    <tr>\n",
       "      <th>GarageArea</th>\n",
       "      <td>1</td>\n",
       "    </tr>\n",
       "    <tr>\n",
       "      <th>GarageCars</th>\n",
       "      <td>1</td>\n",
       "    </tr>\n",
       "    <tr>\n",
       "      <th>Electrical</th>\n",
       "      <td>1</td>\n",
       "    </tr>\n",
       "    <tr>\n",
       "      <th>KitchenQual</th>\n",
       "      <td>1</td>\n",
       "    </tr>\n",
       "    <tr>\n",
       "      <th>TotalBsmtSF</th>\n",
       "      <td>1</td>\n",
       "    </tr>\n",
       "    <tr>\n",
       "      <th>BsmtUnfSF</th>\n",
       "      <td>1</td>\n",
       "    </tr>\n",
       "    <tr>\n",
       "      <th>BsmtFinSF2</th>\n",
       "      <td>1</td>\n",
       "    </tr>\n",
       "  </tbody>\n",
       "</table>\n",
       "</div>"
      ],
      "text/plain": [
       "              Missing Data\n",
       "PoolQC                2909\n",
       "MiscFeature           2814\n",
       "Alley                 2721\n",
       "Fence                 2348\n",
       "FireplaceQu           1420\n",
       "LotFrontage            486\n",
       "GarageFinish           159\n",
       "GarageQual             159\n",
       "GarageCond             159\n",
       "GarageYrBlt            159\n",
       "GarageType             157\n",
       "BsmtExposure            82\n",
       "BsmtCond                82\n",
       "BsmtQual                81\n",
       "BsmtFinType2            80\n",
       "BsmtFinType1            79\n",
       "MasVnrType              24\n",
       "MasVnrArea              23\n",
       "MSZoning                 4\n",
       "BsmtFullBath             2\n",
       "BsmtHalfBath             2\n",
       "Functional               2\n",
       "Utilities                2\n",
       "GarageArea               1\n",
       "GarageCars               1\n",
       "Electrical               1\n",
       "KitchenQual              1\n",
       "TotalBsmtSF              1\n",
       "BsmtUnfSF                1\n",
       "BsmtFinSF2               1"
      ]
     },
     "execution_count": 9,
     "metadata": {},
     "output_type": "execute_result"
    }
   ],
   "source": [
    "all_data_na = all_data.isnull().sum()\n",
    "all_data_na = all_data_na.drop(all_data_na[all_data_na == 0].index).sort_values(ascending = False)\n",
    "missing_data = pd.DataFrame({'Missing Data':all_data_na})\n",
    "missing_data.head(30)"
   ]
  },
  {
   "cell_type": "code",
   "execution_count": 10,
   "id": "069e5b2f",
   "metadata": {
    "execution": {
     "iopub.execute_input": "2022-05-15T15:07:48.490777Z",
     "iopub.status.busy": "2022-05-15T15:07:48.490281Z",
     "iopub.status.idle": "2022-05-15T15:07:48.618656Z",
     "shell.execute_reply": "2022-05-15T15:07:48.617436Z"
    },
    "papermill": {
     "duration": 0.153095,
     "end_time": "2022-05-15T15:07:48.621122",
     "exception": false,
     "start_time": "2022-05-15T15:07:48.468027",
     "status": "completed"
    },
    "tags": []
   },
   "outputs": [
    {
     "name": "stderr",
     "output_type": "stream",
     "text": [
      "/opt/conda/lib/python3.7/site-packages/ipykernel_launcher.py:3: FutureWarning: In a future version of pandas all arguments of DataFrame.drop except for the argument 'labels' will be keyword-only\n",
      "  This is separate from the ipykernel package so we can avoid doing imports until\n"
     ]
    },
    {
     "data": {
      "text/html": [
       "<div>\n",
       "<style scoped>\n",
       "    .dataframe tbody tr th:only-of-type {\n",
       "        vertical-align: middle;\n",
       "    }\n",
       "\n",
       "    .dataframe tbody tr th {\n",
       "        vertical-align: top;\n",
       "    }\n",
       "\n",
       "    .dataframe thead th {\n",
       "        text-align: right;\n",
       "    }\n",
       "</style>\n",
       "<table border=\"1\" class=\"dataframe\">\n",
       "  <thead>\n",
       "    <tr style=\"text-align: right;\">\n",
       "      <th></th>\n",
       "      <th>OverallQual</th>\n",
       "      <th>YearBuilt</th>\n",
       "      <th>TotalBsmtSF</th>\n",
       "      <th>GrLivArea</th>\n",
       "      <th>FullBath</th>\n",
       "      <th>GarageCars</th>\n",
       "    </tr>\n",
       "  </thead>\n",
       "  <tbody>\n",
       "    <tr>\n",
       "      <th>0</th>\n",
       "      <td>7</td>\n",
       "      <td>2003</td>\n",
       "      <td>6.753438</td>\n",
       "      <td>7.444833</td>\n",
       "      <td>2</td>\n",
       "      <td>2.0</td>\n",
       "    </tr>\n",
       "    <tr>\n",
       "      <th>1</th>\n",
       "      <td>6</td>\n",
       "      <td>1976</td>\n",
       "      <td>7.141245</td>\n",
       "      <td>7.141245</td>\n",
       "      <td>2</td>\n",
       "      <td>2.0</td>\n",
       "    </tr>\n",
       "    <tr>\n",
       "      <th>2</th>\n",
       "      <td>7</td>\n",
       "      <td>2001</td>\n",
       "      <td>6.825460</td>\n",
       "      <td>7.488294</td>\n",
       "      <td>2</td>\n",
       "      <td>2.0</td>\n",
       "    </tr>\n",
       "    <tr>\n",
       "      <th>3</th>\n",
       "      <td>7</td>\n",
       "      <td>1915</td>\n",
       "      <td>6.629363</td>\n",
       "      <td>7.448916</td>\n",
       "      <td>1</td>\n",
       "      <td>3.0</td>\n",
       "    </tr>\n",
       "    <tr>\n",
       "      <th>4</th>\n",
       "      <td>8</td>\n",
       "      <td>2000</td>\n",
       "      <td>7.044033</td>\n",
       "      <td>7.695758</td>\n",
       "      <td>2</td>\n",
       "      <td>3.0</td>\n",
       "    </tr>\n",
       "  </tbody>\n",
       "</table>\n",
       "</div>"
      ],
      "text/plain": [
       "   OverallQual  YearBuilt  TotalBsmtSF  GrLivArea  FullBath  GarageCars\n",
       "0            7       2003     6.753438   7.444833         2         2.0\n",
       "1            6       1976     7.141245   7.141245         2         2.0\n",
       "2            7       2001     6.825460   7.488294         2         2.0\n",
       "3            7       1915     6.629363   7.448916         1         3.0\n",
       "4            8       2000     7.044033   7.695758         2         3.0"
      ]
     },
     "execution_count": 10,
     "metadata": {},
     "output_type": "execute_result"
    }
   ],
   "source": [
    "all_data = pd.get_dummies(all_data)\n",
    "all_data = all_data.fillna(all_data.mean())\n",
    "all_data_2 =all_data.drop(all_data.columns.difference(['OverallQual', 'GrLivArea', 'GarageCars', 'TotalBsmtSF', 'FullBath', 'YearBuilt']),1)\n",
    "all_data_2.head()"
   ]
  },
  {
   "cell_type": "code",
   "execution_count": 11,
   "id": "4de36f7b",
   "metadata": {
    "execution": {
     "iopub.execute_input": "2022-05-15T15:07:48.667905Z",
     "iopub.status.busy": "2022-05-15T15:07:48.667614Z",
     "iopub.status.idle": "2022-05-15T15:07:48.673402Z",
     "shell.execute_reply": "2022-05-15T15:07:48.672449Z"
    },
    "papermill": {
     "duration": 0.031732,
     "end_time": "2022-05-15T15:07:48.675620",
     "exception": false,
     "start_time": "2022-05-15T15:07:48.643888",
     "status": "completed"
    },
    "tags": []
   },
   "outputs": [],
   "source": [
    "X_train = all_data[:train.shape[0]]\n",
    "X_test = all_data[train.shape[0]:]\n",
    "X_train_2 = all_data_2[:train.shape[0]]\n",
    "X_test_2 = all_data_2[train.shape[0]:]\n",
    "y = train.SalePrice"
   ]
  },
  {
   "cell_type": "code",
   "execution_count": 12,
   "id": "31f512d8",
   "metadata": {
    "execution": {
     "iopub.execute_input": "2022-05-15T15:07:48.722816Z",
     "iopub.status.busy": "2022-05-15T15:07:48.722530Z",
     "iopub.status.idle": "2022-05-15T15:07:51.791129Z",
     "shell.execute_reply": "2022-05-15T15:07:51.790537Z"
    },
    "papermill": {
     "duration": 3.094934,
     "end_time": "2022-05-15T15:07:51.793921",
     "exception": false,
     "start_time": "2022-05-15T15:07:48.698987",
     "status": "completed"
    },
    "tags": []
   },
   "outputs": [
    {
     "data": {
      "text/plain": [
       "XGBRegressor(base_score=0.5, booster='gbtree', callbacks=None,\n",
       "             colsample_bylevel=1, colsample_bynode=1, colsample_bytree=1,\n",
       "             early_stopping_rounds=None, enable_categorical=False,\n",
       "             eval_metric=None, gamma=0, gpu_id=-1, grow_policy='depthwise',\n",
       "             importance_type=None, interaction_constraints='',\n",
       "             learning_rate=0.300000012, max_bin=256, max_cat_to_onehot=4,\n",
       "             max_delta_step=0, max_depth=6, max_leaves=0, min_child_weight=1,\n",
       "             missing=nan, monotone_constraints='()', n_estimators=1000,\n",
       "             n_jobs=0, num_parallel_tree=1, predictor='auto', random_state=0,\n",
       "             reg_alpha=0, reg_lambda=1, ...)"
      ]
     },
     "execution_count": 12,
     "metadata": {},
     "output_type": "execute_result"
    }
   ],
   "source": [
    "from xgboost import XGBRegressor\n",
    "\n",
    "model = XGBRegressor(n_estimators = 1000)\n",
    "model.fit(X_train_2, y)"
   ]
  },
  {
   "cell_type": "code",
   "execution_count": 13,
   "id": "43cd1003",
   "metadata": {
    "execution": {
     "iopub.execute_input": "2022-05-15T15:07:51.842912Z",
     "iopub.status.busy": "2022-05-15T15:07:51.842118Z",
     "iopub.status.idle": "2022-05-15T15:07:51.859052Z",
     "shell.execute_reply": "2022-05-15T15:07:51.858379Z"
    },
    "papermill": {
     "duration": 0.04515,
     "end_time": "2022-05-15T15:07:51.861828",
     "exception": false,
     "start_time": "2022-05-15T15:07:51.816678",
     "status": "completed"
    },
    "tags": []
   },
   "outputs": [],
   "source": [
    "predictions = np.expm1(model.predict(X_test_2))"
   ]
  },
  {
   "cell_type": "code",
   "execution_count": 14,
   "id": "72747e46",
   "metadata": {
    "execution": {
     "iopub.execute_input": "2022-05-15T15:07:51.909611Z",
     "iopub.status.busy": "2022-05-15T15:07:51.909338Z",
     "iopub.status.idle": "2022-05-15T15:07:51.923285Z",
     "shell.execute_reply": "2022-05-15T15:07:51.922632Z"
    },
    "papermill": {
     "duration": 0.03952,
     "end_time": "2022-05-15T15:07:51.925591",
     "exception": false,
     "start_time": "2022-05-15T15:07:51.886071",
     "status": "completed"
    },
    "tags": []
   },
   "outputs": [],
   "source": [
    "solution = pd.DataFrame({'Id':test.Id, 'SalePrice':predictions})\n",
    "solution.to_csv(\"output.csv\", index=False)"
   ]
  },
  {
   "cell_type": "code",
   "execution_count": null,
   "id": "95a8ccfa",
   "metadata": {
    "papermill": {
     "duration": 0.021261,
     "end_time": "2022-05-15T15:07:51.968983",
     "exception": false,
     "start_time": "2022-05-15T15:07:51.947722",
     "status": "completed"
    },
    "tags": []
   },
   "outputs": [],
   "source": []
  }
 ],
 "metadata": {
  "kernelspec": {
   "display_name": "Python 3",
   "language": "python",
   "name": "python3"
  },
  "language_info": {
   "codemirror_mode": {
    "name": "ipython",
    "version": 3
   },
   "file_extension": ".py",
   "mimetype": "text/x-python",
   "name": "python",
   "nbconvert_exporter": "python",
   "pygments_lexer": "ipython3",
   "version": "3.7.12"
  },
  "papermill": {
   "default_parameters": {},
   "duration": 17.705996,
   "end_time": "2022-05-15T15:07:52.813556",
   "environment_variables": {},
   "exception": null,
   "input_path": "__notebook__.ipynb",
   "output_path": "__notebook__.ipynb",
   "parameters": {},
   "start_time": "2022-05-15T15:07:35.107560",
   "version": "2.3.4"
  }
 },
 "nbformat": 4,
 "nbformat_minor": 5
}
